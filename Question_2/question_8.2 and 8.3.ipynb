{
 "cells": [
  {
   "cell_type": "code",
   "execution_count": 9,
   "id": "ef607164",
   "metadata": {},
   "outputs": [
    {
     "data": {
      "image/png": "[encoded data removed]",
      "text/plain": [
       "<Figure size 432x288 with 1 Axes>"
      ]
     },
     "metadata": {
      "needs_background": "light"
     },
     "output_type": "display_data"
    }
   ],
   "source": [
    "# The result of 8.3 and the process of 8.2\n",
    "import numpy as np\n",
    "import matplotlib.pyplot as plt\n",
    "\n",
    "def f1_val(x1, x2, x3, x4):\n",
    "    return -100 * x1 * x3 + 900 * x2\n",
    "\n",
    "def f2_val(x1, x2, x3, x4):\n",
    "    return 100 * x1 * x3 - 900 * x2\n",
    "\n",
    "def f3_val(x1, x2, x3, x4):\n",
    "    return -100 * x1 * x3 + 600 * x2\n",
    "\n",
    "def f4_val(x1, x2, x3, x4):\n",
    "    return 150 * x2\n",
    "\n",
    "def RK4():\n",
    "    h = 0.0005\n",
    "    t = np.arange(0, 0.02+h, h)\n",
    "    x = np.zeros((len(t), 4))\n",
    "    x[0] = [1, 0, 10, 0]\n",
    "    for i in range(len(t)-1):\n",
    "        k1 = np.array([f1_val(*x[i]), f2_val(*x[i]), f3_val(*x[i]), f4_val(*x[i])])\n",
    "        k2 = np.array([f1_val(*(x[i] + 0.5*h*k1)), f2_val(*(x[i] + 0.5*h*k1)), \n",
    "                       f3_val(*(x[i] + 0.5*h*k1)), f4_val(*(x[i] + 0.5*h*k1))])\n",
    "        k3 = np.array([f1_val(*(x[i] + 0.5*h*k2)), f2_val(*(x[i] + 0.5*h*k2)), \n",
    "                       f3_val(*(x[i] + 0.5*h*k2)), f4_val(*(x[i] + 0.5*h*k2))])\n",
    "        k4 = np.array([f1_val(*(x[i] + h*k3)), f2_val(*(x[i] + h*k3)), \n",
    "                       f3_val(*(x[i] + h*k3)), f4_val(*(x[i] + h*k3))])\n",
    "        x[i+1] = x[i] + (1/6)*(k1 + 2*k2 + 2*k3 + k4)*h\n",
    "    \n",
    "    return x\n",
    "\n",
    "def main():\n",
    "    x = RK4()\n",
    "    plt.plot(150*x[:, 1], label='pe')\n",
    "    plt.xlabel(\"Concentration of S\")\n",
    "    plt.ylabel(\"Velocity of P\")\n",
    "   \n",
    "    plt.legend()\n",
    "    plt.show()\n",
    "\n",
    "if __name__ == \"__main__\":   \n",
    "    main()"
   ]
  },
  {
   "cell_type": "code",
   "execution_count": 10,
   "id": "3a74230a",
   "metadata": {},
   "outputs": [
    {
     "name": "stdout",
     "output_type": "stream",
     "text": [
      "[[ 1.          0.         10.          0.        ]\n",
      " [ 0.68565885  0.31434115  9.65749524  0.01408181]\n",
      " [ 0.5656019   0.4343981   9.47956572  0.04301809]\n",
      " [ 0.51983659  0.48016341  9.3645465   0.07764505]\n",
      " [ 0.50300158  0.49699842  9.27416578  0.1144179 ]\n",
      " [ 0.49753895  0.50246105  9.19364188  0.15194854]\n",
      " [ 0.49657496  0.50342504  9.11719609  0.18968944]\n",
      " [ 0.49740098  0.50259902  9.04255421  0.22742338]\n",
      " [ 0.49894473  0.50105527  8.9688174   0.26506367]\n",
      " [ 0.50078006  0.49921994  8.89562941  0.30257532]\n",
      " [ 0.50273701  0.49726299  8.822849    0.33994401]\n",
      " [ 0.50474755  0.49525245  8.75042033  0.37716361]\n",
      " [ 0.50678432  0.49321568  8.6783217   0.41423131]\n",
      " [ 0.50883629  0.49116371  8.60654502  0.45114563]\n",
      " [ 0.51089897  0.48910103  8.53508769  0.48790564]\n",
      " [ 0.5129705   0.4870295   8.4639493   0.5245106 ]\n",
      " [ 0.51505011  0.48494989  8.39313032  0.5609599 ]\n",
      " [ 0.51713744  0.48286256  8.32263158  0.59725293]\n",
      " [ 0.51923231  0.48076769  8.25245406  0.63338912]\n",
      " [ 0.52133462  0.47866538  8.18259877  0.66936793]\n",
      " [ 0.52344429  0.47655571  8.11306673  0.70518878]\n",
      " [ 0.52556125  0.47443875  8.04385899  0.74085113]\n",
      " [ 0.52768544  0.47231456  7.97497656  0.77635444]\n",
      " [ 0.52981678  0.47018322  7.90642045  0.81169817]\n",
      " [ 0.53195523  0.46804477  7.83819168  0.84688177]\n",
      " [ 0.5341007   0.4658993   7.77029122  0.88190474]\n",
      " [ 0.53625312  0.46374688  7.70272007  0.91676653]\n",
      " [ 0.53841243  0.46158757  7.63547918  0.95146663]\n",
      " [ 0.54057855  0.45942145  7.56856951  0.98600452]\n",
      " [ 0.5427514   0.4572486   7.501992    1.0203797 ]\n",
      " [ 0.54493091  0.45506909  7.43574757  1.05459167]\n",
      " [ 0.547117    0.452883    7.36983714  1.08863993]\n",
      " [ 0.54930958  0.45069042  7.30426161  1.12252399]\n",
      " [ 0.55150857  0.44849143  7.23902185  1.15624336]\n",
      " [ 0.55371389  0.44628611  7.17411874  1.18979757]\n",
      " [ 0.55592543  0.44407457  7.10955313  1.22318615]\n",
      " [ 0.55814313  0.44185687  7.04532586  1.25640863]\n",
      " [ 0.56036687  0.43963313  6.98143775  1.28946456]\n",
      " [ 0.56259657  0.43740343  6.91788961  1.32235348]\n",
      " [ 0.56483212  0.43516788  6.85468222  1.35507495]\n",
      " [ 0.56707344  0.43292656  6.79181635  1.38762854]]\n"
     ]
    }
   ],
   "source": [
    "# Result of 8.2, the final concentrations are in last row\n",
    "x = RK4()\n",
    "print(x)\n"
   ]
  },
  {
   "cell_type": "code",
   "execution_count": 11,
   "id": "09cc812e",
   "metadata": {},
   "outputs": [
    {
     "data": {
      "text/plain": [
       "75.51375542356173"
      ]
     },
     "execution_count": 11,
     "metadata": {},
     "output_type": "execute_result"
    }
   ],
   "source": [
    "max(150*x[:, 1])="
   ]
  },
  {
   "cell_type": "code",
   "execution_count": null,
   "id": "8706fc42",
   "metadata": {},
   "outputs": [],
   "source": []
  }
 ],
 "metadata": {
  "kernelspec": {
   "display_name": "tf",
   "language": "python",
   "name": "tensorflow"
  },
  "language_info": {
   "codemirror_mode": {
    "name": "ipython",
    "version": 3
   },
   "file_extension": ".py",
   "mimetype": "text/x-python",
   "name": "python",
   "nbconvert_exporter": "python",
   "pygments_lexer": "ipython3",
   "version": "3.9.6"
  }
 },
 "nbformat": 4,
 "nbformat_minor": 5
}
